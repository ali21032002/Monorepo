{
  "cells": [
    {
      "cell_type": "markdown",
      "metadata": {},
      "source": [
        "# LangExtract Quickstart (Local Ollama)\n",
        "\n",
        "This notebook demonstrates calling the shared `langextract` package directly, without the FastAPI server.\n",
        "\n"
      ]
    },
    {
      "cell_type": "code",
      "execution_count": null,
      "metadata": {},
      "outputs": [],
      "source": [
        "import os, sys\n",
        "from pathlib import Path\n",
        "ROOT = Path(__file__).resolve().parents[1]\n",
        "SHARED = ROOT / 'monorepo' / 'shared'\n",
        "if str(SHARED) not in sys.path:\n",
        "    sys.path.insert(0, str(SHARED))\n",
        "\n",
        "os.environ.setdefault('OLLAMA_HOST', 'http://127.0.0.1:11434')\n",
        "os.environ.setdefault('OLLAMA_MODEL', 'gemma3:4b')\n",
        "\n",
        "from langextract import run_extraction, generate_html_report  # type: ignore\n",
        "\n"
      ]
    },
    {
      "cell_type": "code",
      "execution_count": null,
      "metadata": {},
      "outputs": [],
      "source": [
        "text = 'علی در تهران زندگی می‌کند و در شرکت دیجی‌کالا کار می‌کند.'\n",
        "res = run_extraction(text=text, language='fa', schema='general')\n",
        "res\n"
      ]
    },
    {
      "cell_type": "code",
      "execution_count": null,
      "metadata": {},
      "outputs": [],
      "source": [
        "html = generate_html_report(source_text=text, extraction=res, language='fa', model=os.getenv('OLLAMA_MODEL','gemma3:4b'))\n",
        "from IPython.display import HTML\n",
        "HTML(html)\n"
      ]
    }
  ],
  "metadata": {
    "kernelspec": {
      "display_name": "Python 3",
      "language": "python",
      "name": "python3"
    },
    "language_info": {
      "name": "python",
      "version": "3.13.5"
    }
  },
  "nbformat": 4,
  "nbformat_minor": 2
}
